{
 "cells": [
  {
   "cell_type": "code",
   "execution_count": 2,
   "id": "70cb402b-5cfa-4d44-a6a9-24e7a327dee3",
   "metadata": {},
   "outputs": [
    {
     "name": "stdout",
     "output_type": "stream",
     "text": [
      "Overwriting deploy.py\n"
     ]
    }
   ],
   "source": [
    "%%writefile deploy.py\n",
    "\n",
    "import os \n",
    "from flask import Flask, render_template, request\n",
    "from functions.showcase_prediction import predict_image, showcase_prediction\n",
    "from keras.models import load_model\n",
    "\n",
    "\n",
    "\n",
    "app = Flask(__name__)\n",
    "\n",
    "model = load_model('model/my_model_deep_m__40_epochs')\n",
    "\n",
    "picFolder = os.path.join('static', 'pics')\n",
    "app.config['UPLOAD_FOLDER'] = picFolder\n",
    "\n",
    "\n",
    "@app.route('/', methods=[\"GET\"])\n",
    "def home():\n",
    "    return render_template('home.html')\n",
    "\n",
    "\n",
    "@app.route('/', methods=[\"POST\", \"GET\"])\n",
    "def predict():\n",
    "                \n",
    "    imagefile = request.files['imagefile']\n",
    "    \n",
    "    try:\n",
    "        # used to upload the photo\n",
    "        image_path = os.path.join(app.config['UPLOAD_FOLDER'], imagefile.filename)\n",
    "        imagefile.save(image_path)                                          \n",
    "\n",
    "        #generate predictions\n",
    "        predict = predict_image(image_path, model)\n",
    "        demo_img_path = showcase_prediction(predict, image_path)\n",
    "    \n",
    "    except IsADirectoryError:\n",
    "        demo_img_path = os.path.join(app.config['UPLOAD_FOLDER'], 'image-not-found.jpeg')\n",
    "    \n",
    "    return render_template('home.html', img_path = demo_img_path )\n",
    "\n",
    "\n",
    "if __name__ =='__main__':\n",
    "\tapp.run(port = 4000, debug = True)"
   ]
  },
  {
   "cell_type": "code",
   "execution_count": null,
   "id": "fa9f3e40-f1c1-45a3-a445-3313eea54d4d",
   "metadata": {},
   "outputs": [],
   "source": []
  }
 ],
 "metadata": {
  "kernelspec": {
   "display_name": "Python 3 (ipykernel)",
   "language": "python",
   "name": "python3"
  },
  "language_info": {
   "codemirror_mode": {
    "name": "ipython",
    "version": 3
   },
   "file_extension": ".py",
   "mimetype": "text/x-python",
   "name": "python",
   "nbconvert_exporter": "python",
   "pygments_lexer": "ipython3",
   "version": "3.9.13"
  }
 },
 "nbformat": 4,
 "nbformat_minor": 5
}
