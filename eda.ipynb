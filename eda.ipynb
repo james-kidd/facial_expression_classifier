{
 "cells": [
  {
   "cell_type": "code",
   "execution_count": 44,
   "id": "9359d073-decd-41de-b75e-5db5a9982f13",
   "metadata": {},
   "outputs": [],
   "source": [
    "import os\n",
    "\n",
    "import pandas as pd\n",
    "import numpy as np\n",
    "\n",
    "import matplotlib.pyplot as plt"
   ]
  },
  {
   "cell_type": "markdown",
   "id": "d79be0d2-63dc-4b1f-b1b8-e1faf8fd1adf",
   "metadata": {},
   "source": [
    "clean data -- create directory to hold images."
   ]
  },
  {
   "cell_type": "code",
   "execution_count": 47,
   "id": "26c2d37d-c419-46ca-b44c-adc21d45eab9",
   "metadata": {},
   "outputs": [],
   "source": [
    "#directories\n",
    "# directory = '/Users/jameskidd/Documents/code/facial_expression_classifier'\n",
    "# face_csv_filepath = 'data/challenges-in-representation-learning-facial-expression-recognition-challenge/icml_face_data.csv'"
   ]
  },
  {
   "cell_type": "code",
   "execution_count": 66,
   "id": "5d6e2849-65c3-47b1-a657-fc4392ef3783",
   "metadata": {},
   "outputs": [
    {
     "ename": "SyntaxError",
     "evalue": "invalid syntax (2355266364.py, line 8)",
     "output_type": "error",
     "traceback": [
      "\u001b[0;36m  File \u001b[0;32m\"/var/folders/k_/vpt7p72x0xq5z_p_5rdc5jzw0000gp/T/ipykernel_15783/2355266364.py\"\u001b[0;36m, line \u001b[0;32m8\u001b[0m\n\u001b[0;31m    facedata = pd.read_csv(os.)\u001b[0m\n\u001b[0m                              ^\u001b[0m\n\u001b[0;31mSyntaxError\u001b[0m\u001b[0;31m:\u001b[0m invalid syntax\n"
     ]
    }
   ],
   "source": [
    "#load csv\n",
    "def face_csv_to_df(csv_pathname):\n",
    "    \n",
    "    directory = os.getcwd() #returns path to current directory\n",
    "    try:\n",
    "        #create dataframe containing image expression label number, usage, and pixels.\n",
    "        facedata = pd.read_csv(os.path.join(directory, csv_pathname))\n",
    "        print(\"Dataframe of CSV successfully created.\")\n",
    "    except:\n",
    "        print(\"Issue raised creating dataframe.\")\n",
    "        return 0\n",
    "    \n",
    "    facedata.rename(columns=lambda x: x.strip())\n",
    "    print(f\"Columns in dataframe: {facedata.columns}\")\n",
    "    \n",
    "    \n",
    "    \n",
    "    \n",
    "\n",
    "facial_expression = {0:'Angry', 1:'Disgust', 2:'Fear', 3:'Happy', 4:'Sad', 5:'Surprise', 6:'Neutral'}\n",
    "\n"
   ]
  },
  {
   "cell_type": "code",
   "execution_count": null,
   "id": "7da6a886-6635-475c-b1f6-89eb303e7ec1",
   "metadata": {},
   "outputs": [],
   "source": []
  },
  {
   "cell_type": "code",
   "execution_count": 64,
   "id": "594f90c1-94d6-4f96-a4d3-7e598a6af460",
   "metadata": {},
   "outputs": [
    {
     "name": "stdout",
     "output_type": "stream",
     "text": [
      "Index(['emotion', 'Usage', 'pixels'], dtype='object')\n"
     ]
    }
   ],
   "source": [
    "print(df.columns)"
   ]
  },
  {
   "cell_type": "code",
   "execution_count": 24,
   "id": "0f705312-a672-4015-a09c-8e33109a0671",
   "metadata": {},
   "outputs": [],
   "source": [
    "data = (df.iloc[2][0])"
   ]
  },
  {
   "cell_type": "code",
   "execution_count": 25,
   "id": "587c6490-48fe-44a1-955b-b7e52d261a6b",
   "metadata": {},
   "outputs": [],
   "source": [
    "new_array = np.fromstring(data, dtype=int, sep=' ').reshape(48,48)"
   ]
  },
  {
   "cell_type": "code",
   "execution_count": 26,
   "id": "7a6fe204-a156-4e3c-90ef-6dff2046e761",
   "metadata": {},
   "outputs": [
    {
     "data": {
      "text/plain": [
       "<matplotlib.image.AxesImage at 0x7fc5348594f0>"
      ]
     },
     "execution_count": 26,
     "metadata": {},
     "output_type": "execute_result"
    },
    {
     "data": {
      "image/png": "[encoded data removed]",
      "text/plain": [
       "<Figure size 640x480 with 1 Axes>"
      ]
     },
     "metadata": {},
     "output_type": "display_data"
    }
   ],
   "source": [
    "plt.imshow(new_array,cmap='gray')"
   ]
  },
  {
   "cell_type": "code",
   "execution_count": null,
   "id": "3d2fc21d-6c8a-4935-ac42-819c26aa88b4",
   "metadata": {},
   "outputs": [],
   "source": []
  }
 ],
 "metadata": {
  "kernelspec": {
   "display_name": "Python 3 (ipykernel)",
   "language": "python",
   "name": "python3"
  },
  "language_info": {
   "codemirror_mode": {
    "name": "ipython",
    "version": 3
   },
   "file_extension": ".py",
   "mimetype": "text/x-python",
   "name": "python",
   "nbconvert_exporter": "python",
   "pygments_lexer": "ipython3",
   "version": "3.9.13"
  }
 },
 "nbformat": 4,
 "nbformat_minor": 5
}
