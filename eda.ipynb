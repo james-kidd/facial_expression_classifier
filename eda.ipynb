{
 "cells": [
  {
   "cell_type": "code",
   "execution_count": 44,
   "id": "9359d073-decd-41de-b75e-5db5a9982f13",
   "metadata": {},
   "outputs": [],
   "source": [
    "import os\n",
    "\n",
    "import pandas as pd\n",
    "import numpy as np\n",
    "\n",
    "import matplotlib.pyplot as plt\n",
    "import PIL "
   ]
  },
  {
   "cell_type": "markdown",
   "id": "d79be0d2-63dc-4b1f-b1b8-e1faf8fd1adf",
   "metadata": {},
   "source": [
    "clean data -- create directory to hold images."
   ]
  },
  {
   "cell_type": "code",
   "execution_count": 84,
   "id": "26c2d37d-c419-46ca-b44c-adc21d45eab9",
   "metadata": {},
   "outputs": [],
   "source": [
    "#directories\n",
    "face_csv_filepath = 'data/challenges-in-representation-learning-facial-expression-recognition-challenge/icml_face_data.csv'"
   ]
  },
  {
   "cell_type": "code",
   "execution_count": 114,
   "id": "5d6e2849-65c3-47b1-a657-fc4392ef3783",
   "metadata": {},
   "outputs": [],
   "source": [
    "#load csv\n",
    "def face_csv_to_df(csv_pathname):\n",
    "    \n",
    "    directory = os.getcwd() #returns path to current directory\n",
    "    try:\n",
    "        #create dataframe containing image expression label number, usage, and pixels.\n",
    "        facedata = pd.read_csv(os.path.join(directory, csv_pathname))\n",
    "        print(\"Dataframe of CSV successfully created.\")\n",
    "    except:\n",
    "        print(\"Issue raised creating dataframe.\")\n",
    "        return 0\n",
    "    \n",
    "    facedata = facedata.rename(columns=lambda x: x.strip().lower())\n",
    "    print(f\"initial columns in dataframe: {facedata.columns}\")\n",
    "    \n",
    "    #create column for emotion label to increase interpretability\n",
    "    facial_expression = {0:'Angry', 1:'Disgust', 2:'Fear', 3:'Happy', 4:'Sad', 5:'Surprise', 6:'Neutral'} #dictionary to map label names\n",
    "    facedata['label_name'] = facedata['emotion'].map(facial_expression)\n",
    "    print(\"label_name column added to dataframe.\")\n",
    "    \n",
    "    #relabel public and private test usage rows to solely test\n",
    "    for usage_type in ['PrivateTest', 'PublicTest']: \n",
    "        facedata.loc[(facedata.usage == usage_type),'usage'] = 'Test'\n",
    "    print(\"Usage column updated.\")\n",
    "    \n",
    "    \n",
    "    #convert string of pixel data to array reshaped.\n",
    "    img_shape = (48,48)\n",
    "    facedata['pixels'] = facedata['pixels'].apply(lambda x: np.fromstring(x, dtype=int, sep=' ').reshape(48,48))\n",
    "    print(\"pixels column converted to numpy array.\")\n",
    "    \n",
    "\n",
    "    return facedata"
   ]
  },
  {
   "cell_type": "code",
   "execution_count": 115,
   "id": "7da6a886-6635-475c-b1f6-89eb303e7ec1",
   "metadata": {},
   "outputs": [
    {
     "name": "stdout",
     "output_type": "stream",
     "text": [
      "Dataframe of CSV successfully created.\n",
      "initial columns in dataframe: Index(['emotion', 'usage', 'pixels'], dtype='object')\n",
      "label_name column added to dataframe.\n",
      "Usage column updated.\n",
      "pixels column converted to numpy array.\n"
     ]
    }
   ],
   "source": [
    "face = face_csv_to_df(face_csv_filepath)"
   ]
  },
  {
   "cell_type": "code",
   "execution_count": 139,
   "id": "839a0b69-e8f3-48ab-bb0f-c66323ee63c3",
   "metadata": {},
   "outputs": [],
   "source": [
    "m = face.pixels[0].reshape(48,48,1)"
   ]
  },
  {
   "cell_type": "code",
   "execution_count": 140,
   "id": "95ad14d4-5ec7-46ad-9c3a-33f16b631e09",
   "metadata": {},
   "outputs": [
    {
     "name": "stdout",
     "output_type": "stream",
     "text": [
      "<class 'PIL.Image.Image'>\n"
     ]
    },
    {
     "data": {
      "text/plain": [
       "<matplotlib.image.AxesImage at 0x7fc34f44a190>"
      ]
     },
     "execution_count": 140,
     "metadata": {},
     "output_type": "execute_result"
    },
    {
     "data": {
      "image/png": "[encoded data removed]",
      "text/plain": [
       "<Figure size 640x480 with 1 Axes>"
      ]
     },
     "metadata": {},
     "output_type": "display_data"
    }
   ],
   "source": [
    "from tensorflow.keras.utils import array_to_img\n",
    "\n",
    "img_pil = array_to_img(m)\n",
    "print(type(img_pil))\n",
    "\n",
    "# show image\n",
    "fig = plt.figure()\n",
    "ax = fig.add_subplot()\n",
    "ax.imshow(img_pil)"
   ]
  },
  {
   "cell_type": "code",
   "execution_count": null,
   "id": "59bb19b9-cc30-4252-ada3-b0a49f533ac7",
   "metadata": {},
   "outputs": [],
   "source": []
  }
 ],
 "metadata": {
  "kernelspec": {
   "display_name": "Python 3 (ipykernel)",
   "language": "python",
   "name": "python3"
  },
  "language_info": {
   "codemirror_mode": {
    "name": "ipython",
    "version": 3
   },
   "file_extension": ".py",
   "mimetype": "text/x-python",
   "name": "python",
   "nbconvert_exporter": "python",
   "pygments_lexer": "ipython3",
   "version": "3.9.13"
  }
 },
 "nbformat": 4,
 "nbformat_minor": 5
}
