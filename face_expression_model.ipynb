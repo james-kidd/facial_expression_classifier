{
 "cells": [
  {
   "cell_type": "code",
   "execution_count": 1,
   "id": "8be14783-0716-42b1-99de-dc276789bddf",
   "metadata": {},
   "outputs": [],
   "source": [
    "import tensorflow as tf\n",
    "import keras\n",
    "\n",
    "import os\n",
    "\n",
    "from keras.utils import image_dataset_from_directory, load_img\n",
    "from keras.optimizers import Adam\n",
    "\n",
    "from keras import layers\n",
    "\n",
    "import pandas as pd\n",
    "import numpy as np\n",
    "import matplotlib.pyplot as plt"
   ]
  },
  {
   "cell_type": "code",
   "execution_count": 2,
   "id": "780364b9-3ff6-4d34-a9f3-ec3dd4468825",
   "metadata": {},
   "outputs": [],
   "source": [
    "#today\n",
    "#DONE implement data augmentation\n",
    "#DONE add class labels to image loading\n",
    "#TODO streamline functions\n",
    "\n",
    "#tmr\n",
    "#TODO improve model overfitting (lower drop out)\n",
    "\n"
   ]
  },
  {
   "cell_type": "code",
   "execution_count": 42,
   "id": "e86cd821-8a81-4e04-ae1f-5ff83e78ffd6",
   "metadata": {},
   "outputs": [
    {
     "name": "stdout",
     "output_type": "stream",
     "text": [
      "Found 27463 files belonging to 7 classes.\n",
      "Using 21971 files for training.\n",
      "Found 27463 files belonging to 7 classes.\n",
      "Using 5492 files for validation.\n",
      "Found 6584 files belonging to 7 classes.\n"
     ]
    }
   ],
   "source": [
    "img_shape = (48,48)\n",
    "BS = 16\n",
    "dir_train_images = 'data/Training'\n",
    "dir_test_images = 'data/Test'\n",
    "num_cat = 7\n",
    "\n",
    "train_ds = image_dataset_from_directory(\n",
    "    dir_train_images,\n",
    "    validation_split=0.2,\n",
    "    subset=\"training\",\n",
    "    seed=1337,\n",
    "    image_size=img_shape,\n",
    "    batch_size=BS,\n",
    "    color_mode = 'grayscale',\n",
    "    labels = 'inferred'\n",
    ")\n",
    "\n",
    "val_ds = image_dataset_from_directory(\n",
    "    dir_train_images,\n",
    "    validation_split=0.2,\n",
    "    subset=\"validation\",\n",
    "    seed=1337,\n",
    "    image_size=img_shape,\n",
    "    batch_size=BS,\n",
    "    color_mode = 'grayscale',\n",
    "    labels = 'inferred'\n",
    "\n",
    ")\n",
    "\n",
    "test_ds = image_dataset_from_directory(\n",
    "    dir_test_images,\n",
    "    seed=1337,\n",
    "    image_size=img_shape,\n",
    "    batch_size=BS,\n",
    "    color_mode = 'grayscale',\n",
    "    labels = 'inferred'\n",
    ")\n",
    "\n",
    "class_names = train_ds.class_names"
   ]
  },
  {
   "cell_type": "code",
   "execution_count": 43,
   "id": "a7d20c89-7cbf-4f72-88f0-b69d47cf9ea7",
   "metadata": {},
   "outputs": [],
   "source": [
    "data_augmentation = keras.Sequential(\n",
    "  [\n",
    "    layers.RandomFlip(\"horizontal\", input_shape=img_shape+(1,)),\n",
    "    layers.RandomRotation(0.1),\n",
    "    layers.RandomZoom(0.1),\n",
    "  ]\n",
    ")\n",
    "\n",
    "\n",
    "shallow_sequence = [\n",
    "    #prepare data\n",
    "    data_augmentation,\n",
    "    layers.Rescaling(1./255),\n",
    "    \n",
    "    #layer 1\n",
    "    layers.Conv2D(32, kernel_size=(3, 3), activation=\"relu\"), #stride size = 1\n",
    "    layers.BatchNormalization(),\n",
    "    layers.Dropout(0.5),\n",
    "\n",
    "    #layer 2\n",
    "    layers.Conv2D(64, kernel_size=(3, 3), activation=\"relu\"), #stride size = 1\n",
    "    layers.MaxPooling2D(pool_size=(2, 2)),\n",
    "    layers.BatchNormalization(),\n",
    "    layers.Dropout(0.5),\n",
    "\n",
    "    #FC layer\n",
    "    layers.Flatten(),\n",
    "    layers.Dense(512, activation='relu'),\n",
    "\n",
    "    #logistic layer\n",
    "    layers.Dense(num_cat, activation='softmax')\n",
    "\n",
    "  ]"
   ]
  },
  {
   "cell_type": "code",
   "execution_count": 44,
   "id": "4048122c-7ba5-4ad7-9bce-213e138000ea",
   "metadata": {},
   "outputs": [],
   "source": [
    "def facial_expr_model(sequence):\n",
    "    \n",
    "    model = keras.Sequential(sequence)\n",
    "    model.compile(loss=\"sparse_categorical_crossentropy\", optimizer=\"adam\", metrics=[\"accuracy\"])\n",
    "\n",
    "    return model"
   ]
  },
  {
   "cell_type": "code",
   "execution_count": 45,
   "id": "4c6f414b-36af-4831-98ea-196a24538edb",
   "metadata": {},
   "outputs": [
    {
     "name": "stdout",
     "output_type": "stream",
     "text": [
      "Model: \"sequential_28\"\n",
      "_________________________________________________________________\n",
      " Layer (type)                Output Shape              Param #   \n",
      "=================================================================\n",
      " sequential_27 (Sequential)  (None, 48, 48, 1)         0         \n",
      "                                                                 \n",
      " rescaling_3 (Rescaling)     (None, 48, 48, 1)         0         \n",
      "                                                                 \n",
      " conv2d_6 (Conv2D)           (None, 46, 46, 32)        320       \n",
      "                                                                 \n",
      " batch_normalization_6 (Batc  (None, 46, 46, 32)       128       \n",
      " hNormalization)                                                 \n",
      "                                                                 \n",
      " dropout_6 (Dropout)         (None, 46, 46, 32)        0         \n",
      "                                                                 \n",
      " conv2d_7 (Conv2D)           (None, 44, 44, 64)        18496     \n",
      "                                                                 \n",
      " max_pooling2d_3 (MaxPooling  (None, 22, 22, 64)       0         \n",
      " 2D)                                                             \n",
      "                                                                 \n",
      " batch_normalization_7 (Batc  (None, 22, 22, 64)       256       \n",
      " hNormalization)                                                 \n",
      "                                                                 \n",
      " dropout_7 (Dropout)         (None, 22, 22, 64)        0         \n",
      "                                                                 \n",
      " flatten_3 (Flatten)         (None, 30976)             0         \n",
      "                                                                 \n",
      " dense_5 (Dense)             (None, 512)               15860224  \n",
      "                                                                 \n",
      " dense_6 (Dense)             (None, 7)                 3591      \n",
      "                                                                 \n",
      "=================================================================\n",
      "Total params: 15,883,015\n",
      "Trainable params: 15,882,823\n",
      "Non-trainable params: 192\n",
      "_________________________________________________________________\n"
     ]
    }
   ],
   "source": [
    "model = facial_expr_model(shallow_sequence)\n",
    "model.summary()"
   ]
  },
  {
   "cell_type": "code",
   "execution_count": 46,
   "id": "66a284d9-69b2-4fd6-86ce-f8670b0b86ca",
   "metadata": {},
   "outputs": [
    {
     "name": "stdout",
     "output_type": "stream",
     "text": [
      "1374/1374 [==============================] - 546s 396ms/step - loss: 3.0255 - accuracy: 0.2714 - val_loss: 1.9417 - val_accuracy: 0.3003\n"
     ]
    }
   ],
   "source": [
    "history = model.fit(\n",
    "  train_ds,\n",
    "  validation_data=val_ds,\n",
    "  epochs=1\n",
    ")"
   ]
  },
  {
   "cell_type": "code",
   "execution_count": 38,
   "id": "74cc7571-0338-43a1-8af4-4e7deba4ce20",
   "metadata": {},
   "outputs": [],
   "source": [
    "def eval_model_stats(history):\n",
    "    # Evaluate the model\n",
    "    loss, acc = model.evaluate(test_ds, verbose=2)\n",
    "    print(\"Accuracy: {:5.2f}%\".format(100 * acc))"
   ]
  },
  {
   "cell_type": "code",
   "execution_count": 39,
   "id": "ac99a83e-cd35-4039-8480-28d7d4106a88",
   "metadata": {},
   "outputs": [],
   "source": [
    "def plot_model_peformance(history, epochs):\n",
    "    acc = history.history['accuracy']\n",
    "    val_acc = history.history['val_accuracy']\n",
    "\n",
    "    loss = history.history['loss']\n",
    "    val_loss = history.history['val_loss']\n",
    "\n",
    "    epochs_range = range(epochs)\n",
    "\n",
    "    plt.figure(figsize=(8, 8))\n",
    "    plt.subplot(1, 2, 1)\n",
    "    plt.plot(epochs_range, acc, label='Training Accuracy')\n",
    "    plt.plot(epochs_range, val_acc, label='Validation Accuracy')\n",
    "    plt.legend(loc='lower right')\n",
    "    plt.title('Training and Validation Accuracy')\n",
    "\n",
    "    plt.subplot(1, 2, 2)\n",
    "    plt.plot(epochs_range, loss, label='Training Loss')\n",
    "    plt.plot(epochs_range, val_loss, label='Validation Loss')\n",
    "    plt.legend(loc='upper right')\n",
    "    plt.title('Training and Validation Loss')\n",
    "    plt.show()"
   ]
  },
  {
   "cell_type": "code",
   "execution_count": 49,
   "id": "f3b832cb-7320-4b71-8c30-41878699346d",
   "metadata": {},
   "outputs": [],
   "source": [
    "def save_model_weights(model, model_id):\n",
    "    model.save(f'my_model_{model_id}', save_format='h5')"
   ]
  },
  {
   "cell_type": "code",
   "execution_count": 50,
   "id": "f3889446-f48b-4abf-9257-e525a83afaf2",
   "metadata": {},
   "outputs": [],
   "source": [
    "save_model_weights(model, 1)"
   ]
  },
  {
   "cell_type": "code",
   "execution_count": 37,
   "id": "bca15f6c-1710-483f-87be-0ae53adee2aa",
   "metadata": {},
   "outputs": [],
   "source": [
    "def showcase_augmented_image(dataset, aug_sequence):\n",
    "    plt.figure(figsize=(8, 8), facecolor='black')\n",
    "    plt.suptitle(\"Example of an image augmented\", fontsize=14, color = 'white')\n",
    "    for image, _ in dataset.take(1):\n",
    "        for i in range(9):\n",
    "            augmented_images = aug_sequence(image)\n",
    "            ax = plt.subplot(3, 3, i + 1)\n",
    "            plt.imshow(augmented_images[0].numpy().astype(\"uint8\"))\n",
    "            plt.axis(\"off\")\n"
   ]
  },
  {
   "cell_type": "code",
   "execution_count": 289,
   "id": "35cb0a1c-d691-4469-b5c8-819cc040c932",
   "metadata": {},
   "outputs": [],
   "source": [
    "def predict_image(image_path, model):\n",
    "\n",
    "    img = tf.keras.utils.load_img(\n",
    "        image_path, target_size=img_shape, color_mode = 'grayscale'\n",
    "        )\n",
    "\n",
    "    img_array = tf.keras.utils.img_to_array(img)\n",
    "    img_array = tf.expand_dims(img_array, 0) # Create a batch\n",
    "\n",
    "    predictions = model.predict(img_array)\n",
    "    score = tf.nn.softmax(predictions[0])\n",
    "\n",
    "    return(\n",
    "        \"This image most likely belongs to {} with a {:.2f} percent confidence.\"\n",
    "        .format(class_names[np.argmax(score)], 100 * np.max(score))\n",
    "    )"
   ]
  },
  {
   "cell_type": "code",
   "execution_count": null,
   "id": "da9a81d8-4ba8-4d28-a196-e23016a5c49b",
   "metadata": {},
   "outputs": [],
   "source": []
  }
 ],
 "metadata": {
  "kernelspec": {
   "display_name": "Python 3 (ipykernel)",
   "language": "python",
   "name": "python3"
  },
  "language_info": {
   "codemirror_mode": {
    "name": "ipython",
    "version": 3
   },
   "file_extension": ".py",
   "mimetype": "text/x-python",
   "name": "python",
   "nbconvert_exporter": "python",
   "pygments_lexer": "ipython3",
   "version": "3.9.13"
  }
 },
 "nbformat": 4,
 "nbformat_minor": 5
}
