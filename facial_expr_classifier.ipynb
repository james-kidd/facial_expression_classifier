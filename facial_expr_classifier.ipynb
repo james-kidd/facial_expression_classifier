{
 "cells": [
  {
   "cell_type": "code",
   "execution_count": null,
   "metadata": {
    "id": "Pb3aSmK1v-zR"
   },
   "outputs": [],
   "source": [
    "import tensorflow as tf\n",
    "import keras\n",
    "\n",
    "import os\n",
    "\n",
    "from keras.preprocessing.image import ImageDataGenerator\n",
    "from keras.optimizers import Adam\n",
    "from keras import layers\n",
    "\n",
    "import pandas as pd\n",
    "import numpy as np\n",
    "import matplotlib.pyplot as plt"
   ]
  },
  {
   "cell_type": "code",
   "execution_count": null,
   "metadata": {
    "id": "8H-L-25whQtm"
   },
   "outputs": [],
   "source": [
    "def plot_loss(history):\n",
    "    plt.plot(history.history['accuracy'], label='accuracy')\n",
    "    plt.plot(history.history['val_accuracy'], label='val_accuracy')\n",
    "    plt.ylim([0,1])\n",
    "    plt.xlabel('Epoch')\n",
    "    plt.ylabel('Error [MPG]')\n",
    "    plt.legend()\n",
    "    plt.grid(True)\n"
   ]
  },
  {
   "cell_type": "code",
   "execution_count": null,
   "metadata": {
    "colab": {
     "base_uri": "https://localhost:8080/"
    },
    "executionInfo": {
     "elapsed": 151,
     "status": "ok",
     "timestamp": 1669670971165,
     "user": {
      "displayName": "James K",
      "userId": "12695355058022665973"
     },
     "user_tz": 300
    },
    "id": "LSX8RntXv1qD",
    "outputId": "61ca09e3-e296-436b-a36b-5499efbe18b1"
   },
   "outputs": [
    {
     "name": "stdout",
     "output_type": "stream",
     "text": [
      "Found GPU at: /device:GPU:0\n"
     ]
    }
   ],
   "source": [
    "device_name = tf.test.gpu_device_name()\n",
    "if device_name != '/device:GPU:0':\n",
    "  raise SystemError('GPU device not found')\n",
    "print('Found GPU at: {}'.format(device_name))"
   ]
  },
  {
   "cell_type": "code",
   "execution_count": null,
   "metadata": {
    "colab": {
     "base_uri": "https://localhost:8080/"
    },
    "executionInfo": {
     "elapsed": 1198,
     "status": "ok",
     "timestamp": 1669663754572,
     "user": {
      "displayName": "James K",
      "userId": "12695355058022665973"
     },
     "user_tz": 300
    },
    "id": "S2S9qYyPwFB6",
    "outputId": "615a6ef1-07d6-426d-e2d9-db19ffc64fa3"
   },
   "outputs": [
    {
     "name": "stdout",
     "output_type": "stream",
     "text": [
      "Drive already mounted at /content/gdrive; to attempt to forcibly remount, call drive.mount(\"/content/gdrive\", force_remount=True).\n"
     ]
    }
   ],
   "source": [
    "from google.colab import drive\n",
    "drive.mount('/content/gdrive')"
   ]
  },
  {
   "cell_type": "markdown",
   "metadata": {
    "id": "3nzKEwpqf0_X"
   },
   "source": [
    "The dataset was downloaded from Kaggle. No description was given about the dataset. fortunately, another post containing same dataset uploaded to kaggle describes the images found within it as 48x48 pixel grayscale images of faces.\n",
    "\n",
    "*The link for the kaggle dataset :*\n",
    "[kaggle link](https://www.kaggle.com/datasets/jonathanoheix/face-expression-recognition-dataset)"
   ]
  },
  {
   "cell_type": "code",
   "execution_count": null,
   "metadata": {
    "id": "SEpaA_TbDjsv"
   },
   "outputs": [],
   "source": [
    "!unzip gdrive/MyDrive/Bootcamp/ds-final-project/faces_expr.zip -d /content/gdrive/MyDrive/Bootcamp/ds-final-project  > /dev/null"
   ]
  },
  {
   "cell_type": "markdown",
   "metadata": {
    "id": "u_M9PkvHqeFf"
   },
   "source": [
    "Investigate dataset from kaggle. It seems as if there are empty folders within dataset. Will delete."
   ]
  },
  {
   "cell_type": "code",
   "execution_count": null,
   "metadata": {
    "colab": {
     "base_uri": "https://localhost:8080/"
    },
    "executionInfo": {
     "elapsed": 1253,
     "status": "ok",
     "timestamp": 1669666423466,
     "user": {
      "displayName": "James K",
      "userId": "12695355058022665973"
     },
     "user_tz": 300
    },
    "id": "DlWK-LWLjEI2",
    "outputId": "0ea2147c-994d-4a13-8f3e-1cc32cb6eb19"
   },
   "outputs": [
    {
     "name": "stdout",
     "output_type": "stream",
     "text": [
      "------- images/images/train --------\n",
      "angry   3993\n",
      "disgust   436\n",
      "fear   4103\n",
      "happy   7164\n",
      "neutral   4982\n",
      "sad   4938\n",
      "surprise   3205\n",
      "\n",
      "-------\n",
      " 28821 \n",
      "-------\n",
      "\n",
      "------- images/images/validation --------\n",
      "angry   960\n",
      "disgust   111\n",
      "fear   1018\n",
      "happy   1825\n",
      "neutral   1216\n",
      "sad   1139\n",
      "surprise   797\n",
      "\n",
      "-------\n",
      " 7066 \n",
      "-------\n",
      "\n",
      "------- images/train --------\n",
      "angry   3993\n",
      "disgust   436\n",
      "fear   4103\n",
      "happy   7164\n",
      "neutral   4982\n",
      "sad   4938\n",
      "surprise   3205\n",
      "\n",
      "-------\n",
      " 28821 \n",
      "-------\n",
      "\n",
      "------- images/validation --------\n",
      "angry   960\n",
      "disgust   111\n",
      "fear   1018\n",
      "happy   1825\n",
      "neutral   1216\n",
      "sad   1139\n",
      "surprise   797\n",
      "\n",
      "-------\n",
      " 7066 \n",
      "-------\n",
      "\n"
     ]
    }
   ],
   "source": [
    "FOLDER_PATH = ['angry', 'disgust',\t'fear',  'happy',  'neutral',  'sad',  'surprise']\n",
    "\n",
    "ROOT_PATH = 'gdrive/MyDrive/Bootcamp/ds-final-project'\n",
    "sub_root = ['images/images/train', 'images/images/validation', 'images/train','images/validation']\n",
    "to_delete = []\n",
    "\n",
    "for i in sub_root:\n",
    "  print('-------',i,'--------')\n",
    "  num_files_in_dir = 0\n",
    "  for j in FOLDER_PATH:\n",
    "    num_files_in_sub_dir = len(os.listdir(os.path.join(ROOT_PATH, i, j)))\n",
    "    print(j,' ', num_files_in_sub_dir)\n",
    "    num_files_in_dir += num_files_in_sub_dir\n",
    "  print('\\n-------\\n', num_files_in_dir, '\\n-------\\n')\n",
    "\n",
    "  if num_files_in_dir  < 1500:\n",
    "    to_delete.append(i)"
   ]
  },
  {
   "cell_type": "code",
   "execution_count": null,
   "metadata": {
    "id": "D9xJdFbFqweU"
   },
   "outputs": [],
   "source": [
    "#delete all useless folders\n",
    "import shutil\n",
    "\n",
    "for filePath in to_delete:\n",
    "    try:\n",
    "        shutil.rmtree(os.path.join(ROOT_PATH, filePath))\n",
    "        # os.remove()\n",
    "    except:\n",
    "        print(\"Error while deleting file : \", filePath)"
   ]
  },
  {
   "cell_type": "code",
   "execution_count": null,
   "metadata": {
    "colab": {
     "base_uri": "https://localhost:8080/",
     "height": 284
    },
    "executionInfo": {
     "elapsed": 350,
     "status": "ok",
     "timestamp": 1669670980001,
     "user": {
      "displayName": "James K",
      "userId": "12695355058022665973"
     },
     "user_tz": 300
    },
    "id": "Kb2E3FmvyigI",
    "outputId": "1d2728d9-ded0-4c4e-d30f-cbaa9effee4b"
   },
   "outputs": [
    {
     "data": {
      "text/plain": [
       "<matplotlib.image.AxesImage at 0x7f95cea75f50>"
      ]
     },
     "execution_count": 98,
     "metadata": {},
     "output_type": "execute_result"
    },
    {
     "data": {
      "image/png": "[encoded data removed]",
      "text/plain": [
       "<Figure size 432x288 with 1 Axes>"
      ]
     },
     "metadata": {
      "needs_background": "light"
     },
     "output_type": "display_data"
    }
   ],
   "source": [
    "plt.imshow(plt.imread('/content/gdrive/MyDrive/Bootcamp/ds-final-project/images/images/train/angry/0.jpg'),cmap='gray')"
   ]
  },
  {
   "cell_type": "code",
   "execution_count": null,
   "metadata": {
    "colab": {
     "base_uri": "https://localhost:8080/"
    },
    "executionInfo": {
     "elapsed": 1332,
     "status": "ok",
     "timestamp": 1669671158355,
     "user": {
      "displayName": "James K",
      "userId": "12695355058022665973"
     },
     "user_tz": 300
    },
    "id": "Eywf8t6whD9Y",
    "outputId": "57bdcd5d-ca5c-467d-c025-9c888729d6a2"
   },
   "outputs": [
    {
     "name": "stdout",
     "output_type": "stream",
     "text": [
      "Found 28821 images belonging to 7 classes.\n",
      "Found 7066 images belonging to 7 classes.\n"
     ]
    }
   ],
   "source": [
    "#batch size\n",
    "BS = 16\n",
    "dir_folder = '/content/gdrive/MyDrive/Bootcamp/ds-final-project/images/images/'\n",
    "\n",
    "#scale the data from 0 to 1 for the model to process\n",
    "train_generator = ImageDataGenerator(\n",
    "    rescale = (1/255) \n",
    "    # validation_split=0.2,\n",
    "    # horizontal_flip=True,\n",
    "    # rotation_range=10,\n",
    ") \n",
    "\n",
    "test_generator = ImageDataGenerator(\n",
    "    rescale = (1/255)\n",
    ") \n",
    "\n",
    "train = train_generator.flow_from_directory (\n",
    "    dir_folder+'train', \n",
    "    target_size = (48,48),\n",
    "    batch_size = BS, \n",
    "    class_mode = 'categorical',\n",
    "    shuffle=True\n",
    ")\n",
    "\n",
    "valid = train_generator.flow_from_directory (\n",
    "    dir_folder+'validation', \n",
    "    target_size = (48,48),\n",
    "    batch_size = BS, \n",
    "    class_mode = 'categorical',\n",
    "    shuffle=True\n",
    ")\n",
    "\n",
    "# test = test_generator.flow_from_directory (\n",
    "#     dir_folder+'test', \n",
    "#     target_size = (128,128),\n",
    "#     batch_size = BS, \n",
    "#     class_mode = 'categorical',\n",
    "#     shuffle=False"
   ]
  },
  {
   "cell_type": "code",
   "execution_count": 164,
   "metadata": {
    "executionInfo": {
     "elapsed": 146,
     "status": "ok",
     "timestamp": 1669685089866,
     "user": {
      "displayName": "James K",
      "userId": "12695355058022665973"
     },
     "user_tz": 300
    },
    "id": "EEwMLHktBkOW"
   },
   "outputs": [],
   "source": [
    "in_shape = train.target_size + (3,)\n",
    "num_cat = 7 #classes\n",
    "\n",
    "shallow_sequence = [\n",
    "    \n",
    "    #layer 1\n",
    "    layers.Conv2D(32, kernel_size=(3, 3), activation=\"relu\", input_shape=in_shape), #stride size = 1\n",
    "    layers.BatchNormalization(),\n",
    "    layers.Dropout(0.5),\n",
    "\n",
    "    #layer 2\n",
    "    layers.Conv2D(64, kernel_size=(3, 3), activation=\"relu\"), #stride size = 1\n",
    "    layers.MaxPooling2D(pool_size=(2, 2)),\n",
    "    layers.BatchNormalization(),\n",
    "    layers.Dropout(0.5),\n",
    "\n",
    "\n",
    "    #FC layer\n",
    "    layers.Flatten(),\n",
    "    layers.Dense(512, activation='relu'),\n",
    "\n",
    "    #logistic layer\n",
    "    layers.Dense(num_cat, activation='softmax')\n",
    "\n",
    "  ]"
   ]
  },
  {
   "cell_type": "code",
   "execution_count": 165,
   "metadata": {
    "executionInfo": {
     "elapsed": 159,
     "status": "ok",
     "timestamp": 1669685090922,
     "user": {
      "displayName": "James K",
      "userId": "12695355058022665973"
     },
     "user_tz": 300
    },
    "id": "1BRpH5BWLSyC"
   },
   "outputs": [],
   "source": [
    "def facial_expr_seq(sequence):\n",
    "\n",
    "  model = keras.Sequential(sequence)\n",
    "  model.compile(loss=\"categorical_crossentropy\", optimizer=\"adam\", metrics=[\"accuracy\"])\n",
    "\n",
    "  return model"
   ]
  },
  {
   "cell_type": "code",
   "execution_count": 156,
   "metadata": {
    "executionInfo": {
     "elapsed": 157,
     "status": "ok",
     "timestamp": 1669682136599,
     "user": {
      "displayName": "James K",
      "userId": "12695355058022665973"
     },
     "user_tz": 300
    },
    "id": "CeH7p28mnRs0"
   },
   "outputs": [],
   "source": [
    "check = facial_expr_seq(shallow_sequence)"
   ]
  },
  {
   "cell_type": "code",
   "execution_count": 157,
   "metadata": {
    "colab": {
     "base_uri": "https://localhost:8080/"
    },
    "executionInfo": {
     "elapsed": 170,
     "status": "ok",
     "timestamp": 1669682139650,
     "user": {
      "displayName": "James K",
      "userId": "12695355058022665973"
     },
     "user_tz": 300
    },
    "id": "iFLWw5OvJjWP",
    "outputId": "8d53555e-9bbb-4c7a-f835-0e77fe2f9e8e"
   },
   "outputs": [
    {
     "name": "stdout",
     "output_type": "stream",
     "text": [
      "Model: \"sequential_3\"\n",
      "_________________________________________________________________\n",
      " Layer (type)                Output Shape              Param #   \n",
      "=================================================================\n",
      " conv2d_8 (Conv2D)           (None, 46, 46, 32)        896       \n",
      "                                                                 \n",
      " batch_normalization_8 (Batc  (None, 46, 46, 32)       128       \n",
      " hNormalization)                                                 \n",
      "                                                                 \n",
      " dropout_8 (Dropout)         (None, 46, 46, 32)        0         \n",
      "                                                                 \n",
      " conv2d_9 (Conv2D)           (None, 44, 44, 64)        18496     \n",
      "                                                                 \n",
      " batch_normalization_9 (Batc  (None, 44, 44, 64)       256       \n",
      " hNormalization)                                                 \n",
      "                                                                 \n",
      " dropout_9 (Dropout)         (None, 44, 44, 64)        0         \n",
      "                                                                 \n",
      " max_pooling2d (MaxPooling2D  (None, 22, 22, 64)       0         \n",
      " )                                                               \n",
      "                                                                 \n",
      " flatten_2 (Flatten)         (None, 30976)             0         \n",
      "                                                                 \n",
      " dense_4 (Dense)             (None, 512)               15860224  \n",
      "                                                                 \n",
      " dense_5 (Dense)             (None, 7)                 3591      \n",
      "                                                                 \n",
      "=================================================================\n",
      "Total params: 15,883,591\n",
      "Trainable params: 15,883,399\n",
      "Non-trainable params: 192\n",
      "_________________________________________________________________\n"
     ]
    }
   ],
   "source": [
    "check.summary()"
   ]
  },
  {
   "cell_type": "code",
   "execution_count": 158,
   "metadata": {
    "colab": {
     "base_uri": "https://localhost:8080/"
    },
    "executionInfo": {
     "elapsed": 601654,
     "status": "ok",
     "timestamp": 1669682742980,
     "user": {
      "displayName": "James K",
      "userId": "12695355058022665973"
     },
     "user_tz": 300
    },
    "id": "D6bQBNMSJp6t",
    "outputId": "4078e138-3bf1-4975-9365-6ce6b0b23b51"
   },
   "outputs": [
    {
     "name": "stdout",
     "output_type": "stream",
     "text": [
      "Epoch 1/8\n"
     ]
    },
    {
     "name": "stderr",
     "output_type": "stream",
     "text": [
      "/usr/local/lib/python3.7/dist-packages/ipykernel_launcher.py:6: UserWarning: `Model.fit_generator` is deprecated and will be removed in a future version. Please use `Model.fit`, which supports generators.\n",
      "  \n"
     ]
    },
    {
     "name": "stdout",
     "output_type": "stream",
     "text": [
      "1801/1801 [==============================] - 71s 39ms/step - loss: 2.7139 - accuracy: 0.2737 - val_loss: 8.1504 - val_accuracy: 0.2731\n",
      "Epoch 2/8\n",
      "1801/1801 [==============================] - 68s 38ms/step - loss: 1.6699 - accuracy: 0.3071 - val_loss: 2.2558 - val_accuracy: 0.3098\n",
      "Epoch 3/8\n",
      "1801/1801 [==============================] - 71s 40ms/step - loss: 1.6384 - accuracy: 0.3159 - val_loss: 2.4181 - val_accuracy: 0.3155\n",
      "Epoch 4/8\n",
      "1801/1801 [==============================] - 69s 38ms/step - loss: 1.6210 - accuracy: 0.3184 - val_loss: 2.8018 - val_accuracy: 0.3139\n",
      "Epoch 5/8\n",
      "1801/1801 [==============================] - 67s 37ms/step - loss: 1.6038 - accuracy: 0.3371 - val_loss: 20.0796 - val_accuracy: 0.2697\n",
      "Epoch 6/8\n",
      "1801/1801 [==============================] - 68s 38ms/step - loss: 1.5927 - accuracy: 0.3413 - val_loss: 20.0545 - val_accuracy: 0.2469\n",
      "Epoch 7/8\n",
      "1801/1801 [==============================] - 66s 37ms/step - loss: 1.6085 - accuracy: 0.3491 - val_loss: 14.5542 - val_accuracy: 0.2786\n",
      "Epoch 8/8\n",
      "1801/1801 [==============================] - 66s 37ms/step - loss: 1.5819 - accuracy: 0.3581 - val_loss: 87.1518 - val_accuracy: 0.1570\n"
     ]
    },
    {
     "data": {
      "text/plain": [
       "<keras.callbacks.History at 0x7f95d1e8c050>"
      ]
     },
     "execution_count": 158,
     "metadata": {},
     "output_type": "execute_result"
    }
   ],
   "source": [
    "check.fit_generator(\n",
    "    train,\n",
    "    steps_per_epoch = train.samples // BS,\n",
    "    validation_data = valid, \n",
    "    validation_steps = valid.samples // BS,\n",
    "    epochs = 8\n",
    ")"
   ]
  },
  {
   "cell_type": "code",
   "execution_count": null,
   "metadata": {
    "colab": {
     "base_uri": "https://localhost:8080/"
    },
    "executionInfo": {
     "elapsed": 152,
     "status": "ok",
     "timestamp": 1669676561974,
     "user": {
      "displayName": "James K",
      "userId": "12695355058022665973"
     },
     "user_tz": 300
    },
    "id": "MGaTqlmyd-yU",
    "outputId": "6a2564bc-60a8-4d08-e344-7cff6dd63793"
   },
   "outputs": [
    {
     "data": {
      "text/plain": [
       "(48, 48)"
      ]
     },
     "execution_count": 120,
     "metadata": {},
     "output_type": "execute_result"
    }
   ],
   "source": [
    "(plt.imread('/content/gdrive/MyDrive/Bootcamp/ds-final-project/images/images/train/angry/0.jpg')/255).shape"
   ]
  },
  {
   "cell_type": "code",
   "execution_count": null,
   "metadata": {
    "id": "OsXvP2BOefyc"
   },
   "outputs": [],
   "source": [
    "import keras.utils as image\n",
    "def load_image(img_path, show=False):\n",
    "\n",
    "    img = image.load_img(img_path, target_size=(48, 48))\n",
    "    img_tensor = image.img_to_array(img)                    # (height, width, channels)\n",
    "    img_tensor = np.expand_dims(img_tensor, axis=0)         # (1, height, width, channels), add a dimension because the model expects this shape: (batch_size, height, width, channels)\n",
    "    img_tensor /= 255.                                      # imshow expects values in the range [0, 1]\n",
    "\n",
    "    if show:\n",
    "        plt.imshow(img_tensor[0])                           \n",
    "        plt.axis('off')\n",
    "        plt.show()\n",
    "\n",
    "    return img_tensor"
   ]
  },
  {
   "cell_type": "code",
   "execution_count": null,
   "metadata": {
    "id": "XP_6oxKGfJgr"
   },
   "outputs": [],
   "source": [
    "trial = load_image('/content/gdrive/MyDrive/Bootcamp/ds-final-project/images/images/train/angry/0.jpg')"
   ]
  },
  {
   "cell_type": "code",
   "execution_count": null,
   "metadata": {
    "colab": {
     "base_uri": "https://localhost:8080/"
    },
    "executionInfo": {
     "elapsed": 176,
     "status": "ok",
     "timestamp": 1669677007577,
     "user": {
      "displayName": "James K",
      "userId": "12695355058022665973"
     },
     "user_tz": 300
    },
    "id": "3n4SnIiLfO81",
    "outputId": "3977f2ac-4ce0-4a34-e50a-ea29f6dd7fe9"
   },
   "outputs": [
    {
     "name": "stdout",
     "output_type": "stream",
     "text": [
      "1/1 [==============================] - 0s 24ms/step\n"
     ]
    },
    {
     "data": {
      "text/plain": [
       "4"
      ]
     },
     "execution_count": 137,
     "metadata": {},
     "output_type": "execute_result"
    }
   ],
   "source": [
    "np.argmax(check.predict(trial))"
   ]
  },
  {
   "cell_type": "code",
   "execution_count": 166,
   "metadata": {
    "colab": {
     "base_uri": "https://localhost:8080/"
    },
    "executionInfo": {
     "elapsed": 458772,
     "status": "ok",
     "timestamp": 1669685579927,
     "user": {
      "displayName": "James K",
      "userId": "12695355058022665973"
     },
     "user_tz": 300
    },
    "id": "JbutAhHpfsKq",
    "outputId": "f5a40d59-14eb-4494-e4c5-107d0134f424"
   },
   "outputs": [
    {
     "name": "stdout",
     "output_type": "stream",
     "text": [
      "Epoch 1/6\n"
     ]
    },
    {
     "name": "stderr",
     "output_type": "stream",
     "text": [
      "/usr/local/lib/python3.7/dist-packages/ipykernel_launcher.py:6: UserWarning: `Model.fit_generator` is deprecated and will be removed in a future version. Please use `Model.fit`, which supports generators.\n",
      "  \n"
     ]
    },
    {
     "name": "stdout",
     "output_type": "stream",
     "text": [
      "1801/1801 [==============================] - 70s 38ms/step - loss: 2.1799 - accuracy: 0.3576 - val_loss: 1.8556 - val_accuracy: 0.3600\n",
      "Epoch 2/6\n",
      "1801/1801 [==============================] - 66s 37ms/step - loss: 1.4702 - accuracy: 0.4356 - val_loss: 1.6666 - val_accuracy: 0.4076\n",
      "Epoch 3/6\n",
      "1801/1801 [==============================] - 65s 36ms/step - loss: 1.3868 - accuracy: 0.4708 - val_loss: 1.4264 - val_accuracy: 0.4454\n",
      "Epoch 4/6\n",
      "1801/1801 [==============================] - 65s 36ms/step - loss: 1.2863 - accuracy: 0.5153 - val_loss: 1.7366 - val_accuracy: 0.4158\n",
      "Epoch 5/6\n",
      "1801/1801 [==============================] - 65s 36ms/step - loss: 1.1858 - accuracy: 0.5557 - val_loss: 1.4419 - val_accuracy: 0.4728\n",
      "Epoch 6/6\n",
      "1801/1801 [==============================] - 65s 36ms/step - loss: 1.0709 - accuracy: 0.6028 - val_loss: 1.4683 - val_accuracy: 0.4711\n"
     ]
    }
   ],
   "source": [
    "history = facial_expr_seq(shallow_sequence).fit_generator(\n",
    "    train,\n",
    "    steps_per_epoch = train.samples // BS,\n",
    "    validation_data = valid, \n",
    "    validation_steps = valid.samples // BS,\n",
    "    epochs = 6\n",
    ")"
   ]
  },
  {
   "cell_type": "code",
   "execution_count": 167,
   "metadata": {
    "colab": {
     "base_uri": "https://localhost:8080/",
     "height": 283
    },
    "executionInfo": {
     "elapsed": 389,
     "status": "ok",
     "timestamp": 1669685649445,
     "user": {
      "displayName": "James K",
      "userId": "12695355058022665973"
     },
     "user_tz": 300
    },
    "id": "jbE8ss-BjKzX",
    "outputId": "6913653e-1e6a-4cd0-9371-4ffc0cf98823"
   },
   "outputs": [
    {
     "data": {
      "image/png": "[encoded data removed]",
      "text/plain": [
       "<Figure size 432x288 with 1 Axes>"
      ]
     },
     "metadata": {
      "needs_background": "light"
     },
     "output_type": "display_data"
    }
   ],
   "source": [
    "plot_loss(history)"
   ]
  },
  {
   "cell_type": "code",
   "execution_count": null,
   "metadata": {
    "id": "wyEwwQ_S-zyG"
   },
   "outputs": [],
   "source": []
  }
 ],
 "metadata": {
  "accelerator": "GPU",
  "colab": {
   "authorship_tag": "ABX9TyMmiJOSKr3QXc1AaSppO5wN",
   "provenance": []
  },
  "gpuClass": "standard",
  "kernelspec": {
   "display_name": "Python 3 (ipykernel)",
   "language": "python",
   "name": "python3"
  },
  "language_info": {
   "codemirror_mode": {
    "name": "ipython",
    "version": 3
   },
   "file_extension": ".py",
   "mimetype": "text/x-python",
   "name": "python",
   "nbconvert_exporter": "python",
   "pygments_lexer": "ipython3",
   "version": "3.9.13"
  }
 },
 "nbformat": 4,
 "nbformat_minor": 4
}
